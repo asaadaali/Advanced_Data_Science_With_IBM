{
  "cells": [
    {
      "metadata": {
        "id": "uuWrwKsTV5xu"
      },
      "cell_type": "markdown",
      "source": [
        "# Assignment 4\n",
        "## Understaning scaling of linear algebra operations on Apache Spark using Apache SystemML\n",
        "\n",
        "In this assignment we want you to understand how to scale linear algebra operations from a single machine to multiple machines, memory and CPU cores using Apache SystemML. Therefore we want you to understand how to migrate from a numpy program to a SystemML DML program. Don't worry. We will give you a lot of hints. Finally, you won't need this knowledge anyways if you are sticking to Keras only, but once you go beyond that point you'll be happy to see what's going on behind the scenes.\n",
        "\n",
        "So the first thing we need to ensure is that we are on the latest version of SystemML, which is 1.2.0:\n",
        "\n",
        "The steps are:\n",
        "- pip install\n",
        "- start execution at the cell with the version - check"
      ]
    },
    {
      "metadata": {
        "id": "G7qt3H8fV5x2"
      },
      "cell_type": "code",
      "source": [
        "from IPython.display import Markdown, display\n",
        "def printmd(string):\n",
        "    display(Markdown('# <span style=\"color:red\">'+string+'</span>'))\n",
        "\n",
        "\n",
        "if ('sc' in locals() or 'sc' in globals()):\n",
        "    printmd('<<<<<!!!!! It seems that you are running in a IBM Watson Studio Apache Spark Notebook. Please run it in an IBM Watson Studio Default Runtime (without Apache Spark) !!!!!>>>>>')\n",
        "\n"
      ],
      "execution_count": null,
      "outputs": []
    },
    {
      "metadata": {
        "colab": {
          "base_uri": "https://localhost:8080/"
        },
        "id": "CZxVKM45V5x6",
        "outputId": "80984735-fed4-407f-cad3-c02f74163f4f"
      },
      "cell_type": "code",
      "source": [
        "!pip install pyspark==3.2.1"
      ],
      "execution_count": null,
      "outputs": [
        {
          "output_type": "stream",
          "name": "stdout",
          "text": [
            "Collecting pyspark==3.2.1\n",
            "  Downloading pyspark-3.2.1.tar.gz (281.4 MB)\n",
            "\u001b[2K     \u001b[90m━━━━━━━━━━━━━━━━━━━━━━━━━━━━━━━━━━━━━━━\u001b[0m \u001b[32m281.4/281.4 MB\u001b[0m \u001b[31m4.2 MB/s\u001b[0m eta \u001b[36m0:00:00\u001b[0m\n",
            "\u001b[?25h  Preparing metadata (setup.py) ... \u001b[?25l\u001b[?25hdone\n",
            "Collecting py4j==0.10.9.3 (from pyspark==3.2.1)\n",
            "  Downloading py4j-0.10.9.3-py2.py3-none-any.whl (198 kB)\n",
            "\u001b[2K     \u001b[90m━━━━━━━━━━━━━━━━━━━━━━━━━━━━━━━━━━━━━━\u001b[0m \u001b[32m199.0/199.0 kB\u001b[0m \u001b[31m23.5 MB/s\u001b[0m eta \u001b[36m0:00:00\u001b[0m\n",
            "\u001b[?25hBuilding wheels for collected packages: pyspark\n",
            "  Building wheel for pyspark (setup.py) ... \u001b[?25l\u001b[?25hdone\n",
            "  Created wheel for pyspark: filename=pyspark-3.2.1-py2.py3-none-any.whl size=281853623 sha256=d58117922941b50d1fcd683731be3760f1cef0eec7703ed6331b52ff866b236a\n",
            "  Stored in directory: /root/.cache/pip/wheels/15/97/bd/52908574a60b5f8e3dc4dc5a0b5be8a59ac20986ee51c2611b\n",
            "Successfully built pyspark\n",
            "Installing collected packages: py4j, pyspark\n",
            "  Attempting uninstall: py4j\n",
            "    Found existing installation: py4j 0.10.9.7\n",
            "    Uninstalling py4j-0.10.9.7:\n",
            "      Successfully uninstalled py4j-0.10.9.7\n",
            "Successfully installed py4j-0.10.9.3 pyspark-3.2.1\n"
          ]
        }
      ]
    },
    {
      "metadata": {
        "colab": {
          "base_uri": "https://localhost:8080/"
        },
        "id": "gCc77lu6V5x7",
        "outputId": "b46b6f1c-2609-4ac8-947e-f8c432202048"
      },
      "cell_type": "code",
      "source": [
        "!pip install systemds==2.2.1"
      ],
      "execution_count": null,
      "outputs": [
        {
          "output_type": "stream",
          "name": "stdout",
          "text": [
            "Collecting systemds==2.2.1\n",
            "  Downloading systemds-2.2.1-py3-none-any.whl (50.9 MB)\n",
            "\u001b[2K     \u001b[90m━━━━━━━━━━━━━━━━━━━━━━━━━━━━━━━━━━━━━━━━\u001b[0m \u001b[32m50.9/50.9 MB\u001b[0m \u001b[31m2.7 MB/s\u001b[0m eta \u001b[36m0:00:00\u001b[0m\n",
            "\u001b[?25hRequirement already satisfied: numpy>=1.8.2 in /usr/local/lib/python3.10/dist-packages (from systemds==2.2.1) (1.23.5)\n",
            "Requirement already satisfied: py4j>=0.10.9 in /usr/local/lib/python3.10/dist-packages (from systemds==2.2.1) (0.10.9.3)\n",
            "Requirement already satisfied: requests>=2.24.0 in /usr/local/lib/python3.10/dist-packages (from systemds==2.2.1) (2.31.0)\n",
            "Requirement already satisfied: pandas>=1.2.2 in /usr/local/lib/python3.10/dist-packages (from systemds==2.2.1) (1.5.3)\n",
            "Requirement already satisfied: python-dateutil>=2.8.1 in /usr/local/lib/python3.10/dist-packages (from pandas>=1.2.2->systemds==2.2.1) (2.8.2)\n",
            "Requirement already satisfied: pytz>=2020.1 in /usr/local/lib/python3.10/dist-packages (from pandas>=1.2.2->systemds==2.2.1) (2023.3.post1)\n",
            "Requirement already satisfied: charset-normalizer<4,>=2 in /usr/local/lib/python3.10/dist-packages (from requests>=2.24.0->systemds==2.2.1) (3.2.0)\n",
            "Requirement already satisfied: idna<4,>=2.5 in /usr/local/lib/python3.10/dist-packages (from requests>=2.24.0->systemds==2.2.1) (3.4)\n",
            "Requirement already satisfied: urllib3<3,>=1.21.1 in /usr/local/lib/python3.10/dist-packages (from requests>=2.24.0->systemds==2.2.1) (2.0.4)\n",
            "Requirement already satisfied: certifi>=2017.4.17 in /usr/local/lib/python3.10/dist-packages (from requests>=2.24.0->systemds==2.2.1) (2023.7.22)\n",
            "Requirement already satisfied: six>=1.5 in /usr/local/lib/python3.10/dist-packages (from python-dateutil>=2.8.1->pandas>=1.2.2->systemds==2.2.1) (1.16.0)\n",
            "Installing collected packages: systemds\n",
            "Successfully installed systemds-2.2.1\n"
          ]
        }
      ]
    },
    {
      "metadata": {
        "id": "t3okyWMrV5x8"
      },
      "cell_type": "code",
      "source": [
        "from pyspark import SparkContext, SparkConf\n",
        "from pyspark.sql import SQLContext, SparkSession\n",
        "from pyspark.sql.types import StructType, StructField, DoubleType, IntegerType, StringType\n",
        "sc = SparkContext.getOrCreate(SparkConf().setMaster(\"local[*]\"))\n",
        "from pyspark.sql import SparkSession\n",
        "spark = SparkSession \\\n",
        "    .builder \\\n",
        "    .getOrCreate()"
      ],
      "execution_count": null,
      "outputs": []
    },
    {
      "metadata": {
        "id": "CZOP_U5DV5x9"
      },
      "cell_type": "code",
      "source": [
        "import numpy as np\n",
        "u = np.random.rand(1000,10000)\n",
        "s = np.random.rand(10000,1000)\n",
        "w = np.random.rand(1000,1000)"
      ],
      "execution_count": null,
      "outputs": []
    },
    {
      "metadata": {
        "id": "VMruocymV5x9"
      },
      "cell_type": "markdown",
      "source": [
        "Now we implement a short one-liner to define a very simple linear algebra operation\n",
        "\n",
        "In case you are unfamiliar with matrxi-matrix multiplication: https://en.wikipedia.org/wiki/Matrix_multiplication\n",
        "\n",
        "sum(U' * (W . (U * S)))\n",
        "\n",
        "\n",
        "| Legend        |            |   \n",
        "| ------------- |-------------|\n",
        "| '      | transpose of a matrix |\n",
        "| * | matrix-matrix multiplication      |  \n",
        "| . | scalar multiplication      |   \n",
        "\n"
      ]
    },
    {
      "metadata": {
        "colab": {
          "base_uri": "https://localhost:8080/"
        },
        "id": "8dSs-YtiV5x-",
        "outputId": "987ab193-546c-4fa2-df63-ccd33ccf83fb"
      },
      "cell_type": "code",
      "source": [
        "import time\n",
        "start = time.time()\n",
        "res = np.sum(u.T.dot(w * u.dot(s)))\n",
        "print (time.time()-start)"
      ],
      "execution_count": null,
      "outputs": [
        {
          "output_type": "stream",
          "name": "stdout",
          "text": [
            "1.8016319274902344\n"
          ]
        }
      ]
    },
    {
      "metadata": {
        "id": "XMUkAK9mV5x_"
      },
      "cell_type": "markdown",
      "source": [
        "As you can see this executes perfectly fine. Note that this is even a very efficient execution because numpy uses a C/C++ backend which is known for it's performance. But what happens if U, S or W get such big that the available main memory cannot cope with it? Let's give it a try:"
      ]
    },
    {
      "metadata": {
        "id": "2Bp6bk2XV5x_"
      },
      "cell_type": "code",
      "source": [
        "u = np.random.rand(10000,100000)\n",
        "s = np.random.rand(100000,10000)\n",
        "w = np.random.rand(10000,10000)"
      ],
      "execution_count": null,
      "outputs": []
    },
    {
      "metadata": {
        "id": "2dVIxuMOV5yA"
      },
      "cell_type": "markdown",
      "source": [
        "After a short while you should see a memory error. This is because the operating system process was not able to allocate enough memory for storing the numpy array on the heap. Now it's time to re-implement the very same operations in SystemDS, and this is your task. Just replace all ###your_code_goes_here sections with proper code, please consider the following table which contains all syntax you need:\n",
        "\n",
        "| Syntax        |            |   \n",
        "| ------------- |-------------|\n",
        "| M.t()      | transpose of a matrix, where M is the matrix |\n",
        "| `M.__matmul__(N)` | matrix-matrix multiplication between M and N      |  \n",
        "| M * N | scalar multiplication between matrix M and N     |   \n",
        "\n",
        "\n",
        "## Task"
      ]
    },
    {
      "metadata": {
        "id": "wxxtFHWfV5yA"
      },
      "cell_type": "markdown",
      "source": [
        "We use SystemDSContext to interface with Apache SystemDS (formerly SystemML). Note that we passed a SparkSession object as parameter to SystemDSContext so now it knows how how to talk to the Apache Spark cluster"
      ]
    },
    {
      "metadata": {
        "colab": {
          "base_uri": "https://localhost:8080/"
        },
        "id": "q7bSTDojV5yB",
        "outputId": "5362c442-b376-4cae-d847-fa716e70879d"
      },
      "cell_type": "code",
      "source": [
        "from systemds.context import SystemDSContext\n",
        "\n",
        "\n",
        "with SystemDSContext(spark) as sds:\n",
        "    # Now we create some large random matrices to have numpy and SystemDS crunch on it\n",
        "    U = sds.rand(rows=1000,cols=10000)\n",
        "    S = sds.rand(rows=10000,cols=1000)\n",
        "    W = sds.rand(rows=1000,cols=1000)\n",
        "    res = (U.t().__matmul__((W * (U.__matmul__(S))))).sum()\n",
        "    print(res.compute())\n"
      ],
      "execution_count": null,
      "outputs": [
        {
          "output_type": "stream",
          "name": "stdout",
          "text": [
            "6248988365187.384\n"
          ]
        }
      ]
    },
    {
      "metadata": {
        "id": "Il5GmsPYV5yB"
      },
      "cell_type": "markdown",
      "source": [
        "In order to show you the advantage of SystemML over numpy we've blown up the sizes of the matrices. Unfortunately, on a 1-2 worker Spark cluster it takes quite some time to complete. Therefore we've stripped down the example to smaller matrices below, but we've kept the code, just in case you are curious to check it out. But you might want to use some more workers which you easily can configure in the environment settings of the project within Watson Studio. Just be aware that you're currently limited to free 50 capacity unit hours per month wich are consumed by the additional workers."
      ]
    },
    {
      "metadata": {
        "id": "PYkLVagUV5yB"
      },
      "cell_type": "markdown",
      "source": [
        "To get consistent results we switch from a random matrix initialization to something deterministic"
      ]
    },
    {
      "metadata": {
        "id": "jZ88YtEFV5yC"
      },
      "cell_type": "markdown",
      "source": [
        "If everything runs fine you should get *6252492444241.075* as result (or something in that bullpark). Feel free to submit your solutionto the grader now!\n",
        "\n",
        "### Submission"
      ]
    },
    {
      "metadata": {
        "colab": {
          "base_uri": "https://localhost:8080/"
        },
        "id": "O9m7rvADV5yC",
        "outputId": "32665f7f-0661-4e22-e7e4-c609f8eaacc3"
      },
      "cell_type": "code",
      "source": [
        "!rm -f rklib.py\n",
        "!wget https://raw.githubusercontent.com/romeokienzler/developerWorks/master/coursera/ai/rklib.py"
      ],
      "execution_count": null,
      "outputs": [
        {
          "output_type": "stream",
          "name": "stdout",
          "text": [
            "--2023-09-19 10:57:36--  https://raw.githubusercontent.com/romeokienzler/developerWorks/master/coursera/ai/rklib.py\n",
            "Resolving raw.githubusercontent.com (raw.githubusercontent.com)... 185.199.110.133, 185.199.108.133, 185.199.109.133, ...\n",
            "Connecting to raw.githubusercontent.com (raw.githubusercontent.com)|185.199.110.133|:443... connected.\n",
            "HTTP request sent, awaiting response... 200 OK\n",
            "Length: 2289 (2.2K) [text/plain]\n",
            "Saving to: ‘rklib.py’\n",
            "\n",
            "rklib.py            100%[===================>]   2.24K  --.-KB/s    in 0s      \n",
            "\n",
            "2023-09-19 10:57:36 (32.9 MB/s) - ‘rklib.py’ saved [2289/2289]\n",
            "\n"
          ]
        }
      ]
    },
    {
      "metadata": {
        "id": "MoIV4yUXV5yF"
      },
      "cell_type": "code",
      "source": [
        "from rklib import submit\n",
        "key = \"esRk7vn-Eeej-BLTuYzd0g\"\n",
        "\n",
        "\n",
        "email = \"asaadaali@gmail.com\""
      ],
      "execution_count": null,
      "outputs": []
    },
    {
      "metadata": {
        "colab": {
          "base_uri": "https://localhost:8080/"
        },
        "id": "NJesxa0FV5yF",
        "outputId": "0ed2263a-24cd-44fa-b248-55b5e831eea6"
      },
      "cell_type": "code",
      "source": [
        "part = \"fUxc8\"\n",
        "token = \"CWx2FmL3fu4ERLuN\"\n",
        "submit(email, token, key, part, [part], res.script.dml_script.replace('\\n','x'))"
      ],
      "execution_count": null,
      "outputs": [
        {
          "output_type": "stream",
          "name": "stdout",
          "text": [
            "Submission successful, please check on the coursera grader page for the status\n",
            "-------------------------\n",
            "{\"elements\":[{\"itemId\":\"P1p3F\",\"id\":\"tE4j0qhMEeecqgpT6QjMdA~P1p3F~bZ5uAlbbEe66xg6PTCZsCQ\",\"courseId\":\"tE4j0qhMEeecqgpT6QjMdA\"}],\"paging\":{},\"linked\":{}}\n",
            "-------------------------\n"
          ]
        }
      ]
    }
  ],
  "metadata": {
    "kernelspec": {
      "name": "python310",
      "display_name": "Python 3.10 with Spark",
      "language": "python3"
    },
    "language_info": {
      "name": "python",
      "version": "3.10.10",
      "mimetype": "text/x-python",
      "codemirror_mode": {
        "name": "ipython",
        "version": 3
      },
      "pygments_lexer": "ipython3",
      "nbconvert_exporter": "python",
      "file_extension": ".py"
    },
    "colab": {
      "provenance": []
    }
  },
  "nbformat": 4,
  "nbformat_minor": 0
}